{
 "cells": [
  {
   "cell_type": "code",
   "execution_count": 1,
   "metadata": {},
   "outputs": [],
   "source": [
    "from cmath import nan\n",
    "import numpy as np \n",
    "import pandas as pd \n",
    "import matplotlib.pyplot as plt\n",
    "import matplotlib.patches as mpatches\n",
    "from helpers_DF import *\n",
    "import time"
   ]
  },
  {
   "cell_type": "code",
   "execution_count": 2,
   "metadata": {},
   "outputs": [],
   "source": [
    "softening=1e-6\n",
    "k=8.9875517923*1e9\n",
    "\n",
    "info = np.loadtxt('E_field/info.txt')\n",
    "convert_dist=info[1] \n",
    "convert_E=info[2]\n",
    "convert_vel=info[3]\n",
    "\n",
    "prob = np.loadtxt('E_field/prob.txt')\n",
    "ri = np.loadtxt('E_field/r.txt')*convert_dist  # r initial condition\n",
    "zi = np.loadtxt('E_field/z.txt')*convert_dist  # z initial condition\n",
    "vri = np.loadtxt('E_field/v_r.txt')*convert_vel # vr initial condition\n",
    "vzi = np.loadtxt('E_field/v_z.txt')*convert_vel # vz initial condition\n",
    "\n",
    "# Load the csv file\n",
    "df = pd.read_csv('E_field/Fields.csv')\n",
    "# Convert the DataFrame to a numpy array\n",
    "Field = df.values\n",
    "r=Field[:,0]*convert_dist\n",
    "z=Field[:,1]*convert_dist\n",
    "Er=Field[:,2]*convert_E\n",
    "Ez=Field[:,3]*convert_E\n",
    "\n",
    "interp=triangulation (r,z,Er,Ez)\n",
    "\n",
    "\n"
   ]
  },
  {
   "cell_type": "code",
   "execution_count": 3,
   "metadata": {},
   "outputs": [],
   "source": [
    "dt=5e-12\n",
    "Pneut=0\n",
    "Pmono=40\n",
    "Pdim=40\n",
    "Ptrim=20"
   ]
  },
  {
   "cell_type": "code",
   "execution_count": null,
   "metadata": {},
   "outputs": [],
   "source": []
  }
 ],
 "metadata": {
  "kernelspec": {
   "display_name": "base",
   "language": "python",
   "name": "python3"
  },
  "language_info": {
   "codemirror_mode": {
    "name": "ipython",
    "version": 3
   },
   "file_extension": ".py",
   "mimetype": "text/x-python",
   "name": "python",
   "nbconvert_exporter": "python",
   "pygments_lexer": "ipython3",
   "version": "3.9.12"
  },
  "orig_nbformat": 4
 },
 "nbformat": 4,
 "nbformat_minor": 2
}
