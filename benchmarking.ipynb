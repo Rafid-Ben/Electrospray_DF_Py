{
 "cells": [
  {
   "cell_type": "code",
   "execution_count": 17,
   "metadata": {},
   "outputs": [],
   "source": [
    "from cmath import nan\n",
    "import numpy as np \n",
    "import pandas as pd \n",
    "import matplotlib.pyplot as plt\n",
    "import matplotlib.patches as mpatches\n",
    "from helpers_DF import *\n",
    "import time"
   ]
  },
  {
   "cell_type": "code",
   "execution_count": 18,
   "metadata": {},
   "outputs": [],
   "source": [
    "softening=1e-6\n",
    "k=8.9875517923*1e9\n",
    "\n",
    "info = np.loadtxt('E_field/info.txt')\n",
    "convert_dist=info[1] \n",
    "convert_E=info[2]\n",
    "convert_vel=info[3]\n",
    "\n",
    "prob = np.loadtxt('E_field/prob.txt')\n",
    "ri = np.loadtxt('E_field/r.txt')*convert_dist  # r initial condition\n",
    "zi = np.loadtxt('E_field/z.txt')*convert_dist  # z initial condition\n",
    "vri = np.loadtxt('E_field/v_r.txt')*convert_vel # vr initial condition\n",
    "vzi = np.loadtxt('E_field/v_z.txt')*convert_vel # vz initial condition\n",
    "\n",
    "# Load the csv file\n",
    "df = pd.read_csv('E_field/Fields.csv')\n",
    "# Convert the DataFrame to a numpy array\n",
    "Field = df.values\n",
    "r=Field[:,0]*convert_dist\n",
    "z=Field[:,1]*convert_dist\n",
    "Er=Field[:,2]*convert_E\n",
    "Ez=Field[:,3]*convert_E\n",
    "\n",
    "interp=triangulation (r,z,Er,Ez)\n",
    "\n",
    "\n"
   ]
  },
  {
   "cell_type": "code",
   "execution_count": 19,
   "metadata": {},
   "outputs": [],
   "source": [
    "dt=5e-12\n",
    "Pneut=0\n",
    "Pmono=40\n",
    "Pdim=40\n",
    "Ptrim=20"
   ]
  },
  {
   "cell_type": "code",
   "execution_count": 44,
   "metadata": {},
   "outputs": [
    {
     "name": "stdout",
     "output_type": "stream",
     "text": [
      "[100, 200, 300, 400, 500, 600, 700, 800, 900, 1000, 2000, 3000, 4000, 5000, 6000, 7000, 8000, 9000, 10000, 20000, 30000, 40000, 50000, 60000, 70000, 80000, 90000, 100000]\n"
     ]
    }
   ],
   "source": [
    "N_values = list(range(100, 1001, 100)) + list(range(2000, 10001, 1000))+ list(range(20000, 100001, 10000))\n",
    "times = []\n",
    "N_FMM = []\n",
    "print(N_values)"
   ]
  },
  {
   "cell_type": "code",
   "execution_count": 45,
   "metadata": {},
   "outputs": [
    {
     "name": "stdout",
     "output_type": "stream",
     "text": [
      "Elapsed time for N=100: 0.09811711311340332 seconds\n",
      "Elapsed time for N=200: 0.05964994430541992 seconds\n",
      "Elapsed time for N=300: 0.10358500480651855 seconds\n",
      "Elapsed time for N=400: 0.16151976585388184 seconds\n",
      "Elapsed time for N=500: 0.22151494026184082 seconds\n",
      "Elapsed time for N=600: 0.2978973388671875 seconds\n",
      "Elapsed time for N=700: 0.3776099681854248 seconds\n",
      "Elapsed time for N=800: 0.4536299705505371 seconds\n",
      "Elapsed time for N=900: 0.5522069931030273 seconds\n",
      "Elapsed time for N=1000: 0.662945032119751 seconds\n",
      "Elapsed time for N=2000: 2.1095969676971436 seconds\n",
      "Elapsed time for N=3000: 3.9539127349853516 seconds\n",
      "Elapsed time for N=4000: 6.053529262542725 seconds\n",
      "Elapsed time for N=5000: 8.164003133773804 seconds\n",
      "Elapsed time for N=6000: 11.401145935058594 seconds\n",
      "Elapsed time for N=7000: 13.894564151763916 seconds\n",
      "Elapsed time for N=8000: 16.407877206802368 seconds\n",
      "Elapsed time for N=9000: 19.642251014709473 seconds\n",
      "Elapsed time for N=10000: 23.59584879875183 seconds\n",
      "Elapsed time for N=20000: 110.32499885559082 seconds\n"
     ]
    },
    {
     "ename": "KeyboardInterrupt",
     "evalue": "",
     "output_type": "error",
     "traceback": [
      "\u001b[0;31m---------------------------------------------------------------------------\u001b[0m",
      "\u001b[0;31mKeyboardInterrupt\u001b[0m                         Traceback (most recent call last)",
      "\u001b[1;32m/Users/rafidbendimerad/Documents/AstraLab/Nbody_Python/Electrospray_clean/benchmarking.ipynb Cell 5\u001b[0m in \u001b[0;36m<cell line: 1>\u001b[0;34m()\u001b[0m\n\u001b[1;32m      <a href='vscode-notebook-cell:/Users/rafidbendimerad/Documents/AstraLab/Nbody_Python/Electrospray_clean/benchmarking.ipynb#W4sZmlsZQ%3D%3D?line=0'>1</a>\u001b[0m \u001b[39mfor\u001b[39;00m N \u001b[39min\u001b[39;00m N_values:\n\u001b[1;32m      <a href='vscode-notebook-cell:/Users/rafidbendimerad/Documents/AstraLab/Nbody_Python/Electrospray_clean/benchmarking.ipynb#W4sZmlsZQ%3D%3D?line=1'>2</a>\u001b[0m     start_time \u001b[39m=\u001b[39m time\u001b[39m.\u001b[39mtime()\n\u001b[0;32m----> <a href='vscode-notebook-cell:/Users/rafidbendimerad/Documents/AstraLab/Nbody_Python/Electrospray_clean/benchmarking.ipynb#W4sZmlsZQ%3D%3D?line=2'>3</a>\u001b[0m     species, pos_save, IC \u001b[39m=\u001b[39m DF_nbody(dt, N, prob, ri, zi, vri, vzi, Pneut, Pmono, Pdim, Ptrim, softening, k, interp)\n\u001b[1;32m      <a href='vscode-notebook-cell:/Users/rafidbendimerad/Documents/AstraLab/Nbody_Python/Electrospray_clean/benchmarking.ipynb#W4sZmlsZQ%3D%3D?line=3'>4</a>\u001b[0m     end_time \u001b[39m=\u001b[39m time\u001b[39m.\u001b[39mtime()\n\u001b[1;32m      <a href='vscode-notebook-cell:/Users/rafidbendimerad/Documents/AstraLab/Nbody_Python/Electrospray_clean/benchmarking.ipynb#W4sZmlsZQ%3D%3D?line=4'>5</a>\u001b[0m     elapsed_time \u001b[39m=\u001b[39m end_time \u001b[39m-\u001b[39m start_time\n",
      "File \u001b[0;32m~/Documents/AstraLab/Nbody_Python/Electrospray_clean/helpers_DF.py:245\u001b[0m, in \u001b[0;36mDF_nbody\u001b[0;34m(dt, N, prob, ri, zi, vri, vzi, Pneut, Pmono, Pdim, Ptrim, softening, k, interp)\u001b[0m\n\u001b[1;32m    243\u001b[0m       pos[\u001b[39m0\u001b[39m:i],vel[\u001b[39m0\u001b[39m:i],acc[\u001b[39m0\u001b[39m:i]\u001b[39m=\u001b[39mleapfrog_kdk(pos[\u001b[39m0\u001b[39m:i],vel[\u001b[39m0\u001b[39m:i],acc[\u001b[39m0\u001b[39m:i],dt,mass[\u001b[39m0\u001b[39m:i],charge[\u001b[39m0\u001b[39m:i], k, softening,interp,current_step)\n\u001b[1;32m    244\u001b[0m \t\t\u001b[39m# save the current position and velocity of the 0 to i particles:\u001b[39;00m\n\u001b[0;32m--> 245\u001b[0m       pos_save[:i,:,i] \u001b[39m=\u001b[39m pos[\u001b[39m0\u001b[39m:i]\n\u001b[1;32m    246\u001b[0m       \u001b[39m#vel_save[:i,:,i] = vel[0:i]\u001b[39;00m\n\u001b[1;32m    247\u001b[0m       current_step \u001b[39m+\u001b[39m\u001b[39m=\u001b[39m \u001b[39m1\u001b[39m\n",
      "\u001b[0;31mKeyboardInterrupt\u001b[0m: "
     ]
    }
   ],
   "source": [
    "for N in N_values:\n",
    "    start_time = time.time()\n",
    "    species, pos_save, IC = DF_nbody(dt, N, prob, ri, zi, vri, vzi, Pneut, Pmono, Pdim, Ptrim, softening, k, interp)\n",
    "    end_time = time.time()\n",
    "    elapsed_time = end_time - start_time\n",
    "    times.append(elapsed_time)\n",
    "    print(f\"Elapsed time for N={N}: {elapsed_time} seconds\")\n",
    "    \n",
    "    zz = pos_save[:,2,-1]*1e6\n",
    "    N_poisson=np.sum(zz<5)*10 +np.sum((zz > 5) & (zz <= 250))/10\n",
    "    N_FMM.append(N_poisson)\n",
    "\n"
   ]
  },
  {
   "cell_type": "code",
   "execution_count": 63,
   "metadata": {},
   "outputs": [
    {
     "data": {
      "text/plain": [
       "array([  100,   200,   300,   400,   500,   600,   700,   800,   900,\n",
       "        1000,  2000,  3000,  4000,  5000,  6000,  7000,  8000,  9000,\n",
       "       10000, 20000])"
      ]
     },
     "execution_count": 63,
     "metadata": {},
     "output_type": "execute_result"
    }
   ],
   "source": [
    "N_values = np.array([100, 200, 300, 400, 500, 600, 700, 800, 900, 1000, 2000, 3000, 4000, 5000, 6000, 7000, 8000, 9000, 10000, 20000])\n",
    "N_values"
   ]
  },
  {
   "cell_type": "code",
   "execution_count": 64,
   "metadata": {},
   "outputs": [
    {
     "data": {
      "image/png": "[encoded data removed]",
      "text/plain": [
       "<Figure size 720x432 with 1 Axes>"
      ]
     },
     "metadata": {
      "needs_background": "light"
     },
     "output_type": "display_data"
    }
   ],
   "source": [
    "plt.figure(figsize=(10, 6))\n",
    "plt.plot(N_values, times, marker='o')\n",
    "plt.xlabel('N')\n",
    "plt.ylabel('Time (seconds)')\n",
    "plt.title('Time Complexity of DF_nbody')\n",
    "plt.grid(True)\n",
    "plt.xscale('log')\n",
    "plt.show()"
   ]
  },
  {
   "cell_type": "code",
   "execution_count": 55,
   "metadata": {},
   "outputs": [
    {
     "data": {
      "text/plain": [
       "29"
      ]
     },
     "execution_count": 55,
     "metadata": {},
     "output_type": "execute_result"
    }
   ],
   "source": [
    "np.size(N_values)"
   ]
  },
  {
   "cell_type": "code",
   "execution_count": 66,
   "metadata": {},
   "outputs": [
    {
     "data": {
      "image/png": "[encoded data removed]",
      "text/plain": [
       "<Figure size 720x432 with 1 Axes>"
      ]
     },
     "metadata": {
      "needs_background": "light"
     },
     "output_type": "display_data"
    }
   ],
   "source": [
    "plt.figure(figsize=(10, 6))\n",
    "plt.plot(N_values, N_FMM, marker='o')\n",
    "plt.xlabel('N  Total')\n",
    "plt.ylabel('N  FMM')\n",
    "plt.title('N FMM vs N Total at the last time step of the simulation')\n",
    "plt.grid(True)\n",
    "plt.show()"
   ]
  },
  {
   "cell_type": "code",
   "execution_count": 65,
   "metadata": {},
   "outputs": [
    {
     "data": {
      "text/plain": [
       "[673.2,\n",
       " 792.1,\n",
       " 732.8,\n",
       " 752.7,\n",
       " 851.8,\n",
       " 802.4,\n",
       " 762.9,\n",
       " 772.9,\n",
       " 802.7,\n",
       " 832.5,\n",
       " 811.2,\n",
       " 866.3,\n",
       " 867.7,\n",
       " 928.1,\n",
       " 860.9,\n",
       " 888.4,\n",
       " 867.9,\n",
       " 915.0,\n",
       " 936.2,\n",
       " 915.5]"
      ]
     },
     "execution_count": 65,
     "metadata": {},
     "output_type": "execute_result"
    }
   ],
   "source": [
    "N_FMM"
   ]
  },
  {
   "cell_type": "code",
   "execution_count": null,
   "metadata": {},
   "outputs": [],
   "source": []
  }
 ],
 "metadata": {
  "kernelspec": {
   "display_name": "base",
   "language": "python",
   "name": "python3"
  },
  "language_info": {
   "codemirror_mode": {
    "name": "ipython",
    "version": 3
   },
   "file_extension": ".py",
   "mimetype": "text/x-python",
   "name": "python",
   "nbconvert_exporter": "python",
   "pygments_lexer": "ipython3",
   "version": "3.9.12"
  },
  "orig_nbformat": 4
 },
 "nbformat": 4,
 "nbformat_minor": 2
}
