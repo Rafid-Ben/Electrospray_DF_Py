{
 "cells": [
  {
   "cell_type": "code",
   "execution_count": 1,
   "metadata": {},
   "outputs": [],
   "source": [
    "from cmath import nan\n",
    "import numpy as np \n",
    "import pandas as pd \n",
    "import matplotlib.pyplot as plt\n",
    "import matplotlib.patches as mpatches\n",
    "\n",
    "from helpers_DF import *\n",
    "import matplotlib.animation as animation\n",
    "from matplotlib import rcParams\n",
    "from IPython.display import HTML\n",
    "rcParams['animation.embed_limit'] = 60\n",
    "from matplotlib import colors as mcolors\n",
    "from mpl_toolkits.mplot3d.art3d import Poly3DCollection\n",
    "import plotly.graph_objects as go"
   ]
  },
  {
   "cell_type": "code",
   "execution_count": 2,
   "metadata": {},
   "outputs": [],
   "source": [
    "# Fields.csv\n",
    "# r  |  z  |  Er | Ez\n",
    "# Electric current = info[0] \n",
    "# Distance scaling to meter = multiply by info[1] \n",
    "# Electric Field (Er, Ez) scaling to V/m = multiply by info[2]\n",
    "# Velocity scaling to m/s = multiply by info[3];\n",
    "# Extractor voltage = info[6]; \n",
    "\n",
    "#EXTRACTOR_DIST = info[10]; //extractor distance\n",
    "#EXTRACTOR_APETURE_DIA = info[11]; //extractor width\n",
    "#EXTRACTOR_THICKNESS = info[12]; //extractor thickness"
   ]
  },
  {
   "cell_type": "code",
   "execution_count": 3,
   "metadata": {},
   "outputs": [],
   "source": [
    "softening=1e-6\n",
    "k=8.9875517923*1e9\n",
    "\n",
    "info = np.loadtxt('E_field/info.txt')\n",
    "convert_dist=info[1] \n",
    "convert_E=info[2]\n",
    "convert_vel=info[3]\n",
    "\n",
    "prob = np.loadtxt('E_field/prob.txt')\n",
    "ri = np.loadtxt('E_field/r.txt')*convert_dist  # r initial condition in (m)\n",
    "zi = np.loadtxt('E_field/z.txt')*convert_dist  # z initial condition in (m)\n",
    "vri = np.loadtxt('E_field/v_r.txt')*convert_vel # vr initial condition (m/s)\n",
    "vzi = np.loadtxt('E_field/v_z.txt')*convert_vel # vz initial condition (m/s)\n",
    "\n",
    "# Load the csv file\n",
    "df = pd.read_csv('E_field/Fields.csv')\n",
    "# Convert the DataFrame to a numpy array\n",
    "Field = df.values\n",
    "r=Field[:,0]*convert_dist # r grid of the electric field (m)\n",
    "z=Field[:,1]*convert_dist # z grid of the electric field (m)\n",
    "Er=Field[:,2]*convert_E # Radial Electric Field Er in (V/m)\n",
    "Ez=Field[:,3]*convert_E # Axial Electric Field Ez in (V/m)\n",
    "\n",
    "interp=triangulation (r,z,Er,Ez)\n"
   ]
  },
  {
   "cell_type": "code",
   "execution_count": 2,
   "metadata": {},
   "outputs": [],
   "source": [
    "N=10000  # total number of ejected particles \n",
    "dt=5e-12 # timestep in seconds\n",
    "Pneut=0  # Percentage of injected neutrals = 0 (we don't inject neutrals)\n",
    "Pmono=40 # Percentage of injected monomers\n",
    "Pdim=40  # Percentage of injected dimers\n",
    "Ptrim=20 # Percentage of injected trimers\n",
    "kstep=10 # save the data in a separate file each kstep steps\n",
    "\n",
    "# The data is saved as follows:\n",
    "# idx,species,x,y,z,vx,vy,vz,Er,Ez,frag\n",
    "\n",
    "#Er: Eelectric field as a function of r\n",
    "#Ez: Eelectric field as a function of z\n",
    "#frag: probability of fragmetnation"
   ]
  },
  {
   "cell_type": "code",
   "execution_count": 5,
   "metadata": {},
   "outputs": [],
   "source": [
    "!rm -f sim_data/*.npy"
   ]
  },
  {
   "cell_type": "code",
   "execution_count": 6,
   "metadata": {},
   "outputs": [],
   "source": [
    "species, pos_save,IC,counters = DF_nbody(dt,N,prob,ri,zi,vri,vzi,Pneut,Pmono,Pdim,Ptrim,softening,k,interp,kstep)"
   ]
  },
  {
   "cell_type": "code",
   "execution_count": null,
   "metadata": {},
   "outputs": [],
   "source": []
  }
 ],
 "metadata": {
  "kernelspec": {
   "display_name": "Python 3",
   "language": "python",
   "name": "python3"
  },
  "language_info": {
   "codemirror_mode": {
    "name": "ipython",
    "version": 3
   },
   "file_extension": ".py",
   "mimetype": "text/x-python",
   "name": "python",
   "nbconvert_exporter": "python",
   "pygments_lexer": "ipython3",
   "version": "3.10.12"
  }
 },
 "nbformat": 4,
 "nbformat_minor": 2
}
