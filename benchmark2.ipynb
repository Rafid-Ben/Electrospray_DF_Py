{
 "cells": [
  {
   "cell_type": "code",
   "execution_count": 1,
   "metadata": {},
   "outputs": [],
   "source": [
    "from cmath import nan\n",
    "import numpy as np \n",
    "import pandas as pd \n",
    "import matplotlib.pyplot as plt\n",
    "import matplotlib.patches as mpatches\n",
    "from helpers_DF import *\n",
    "import time"
   ]
  },
  {
   "cell_type": "code",
   "execution_count": 2,
   "metadata": {},
   "outputs": [],
   "source": [
    "# Fields.csv\n",
    "# r  |  z  |  Er | Ez\n",
    "# Electric current = info[0] \n",
    "# Distance scaling to meter = multiply by info[1] \n",
    "# Electric Field (Er, Ez) scaling to V/m = multiply by info[2]\n",
    "# Velocity scaling to m/s = multiply by info[3];\n",
    "# Extractor voltage = info[6]; \n",
    "\n",
    "#EXTRACTOR_DIST = info[10]; //extractor distance\n",
    "#EXTRACTOR_APETURE_DIA = info[11]; //extractor width\n",
    "#EXTRACTOR_THICKNESS = info[12]; //extractor thickness\n",
    "\n",
    "\n",
    "softening=1e-6\n",
    "k=8.9875517923*1e9\n",
    "\n",
    "info = np.loadtxt('E_field/info.txt')\n",
    "convert_dist=info[1] \n",
    "convert_E=info[2]\n",
    "convert_vel=info[3]\n",
    "\n",
    "prob = np.loadtxt('E_field/prob.txt')\n",
    "ri = np.loadtxt('E_field/r.txt')*convert_dist  # r initial condition in (m)\n",
    "zi = np.loadtxt('E_field/z.txt')*convert_dist  # z initial condition in (m)\n",
    "vri = np.loadtxt('E_field/v_r.txt')*convert_vel # vr initial condition (m/s)\n",
    "vzi = np.loadtxt('E_field/v_z.txt')*convert_vel # vz initial condition (m/s)\n",
    "\n",
    "# Load the csv file\n",
    "df = pd.read_csv('E_field/Fields.csv')\n",
    "# Convert the DataFrame to a numpy array\n",
    "Field = df.values\n",
    "r=Field[:,0]*convert_dist # r grid of the electric field (m)\n",
    "z=Field[:,1]*convert_dist # z grid of the electric field (m)\n",
    "Er=Field[:,2]*convert_E # Radial Electric Field Er in (V/m)\n",
    "Ez=Field[:,3]*convert_E # Axial Electric Field Ez in (V/m)\n",
    "\n",
    "interp=triangulation (r,z,Er,Ez)\n",
    "dt=5e-12\n",
    "Pneut=0\n",
    "Pmono=40\n",
    "Pdim=40\n",
    "Ptrim=20\n",
    "\n",
    "\n",
    "N_values=np.arange(1000,10001,1000)\n",
    "\n"
   ]
  },
  {
   "cell_type": "code",
   "execution_count": 3,
   "metadata": {},
   "outputs": [],
   "source": []
  },
  {
   "cell_type": "code",
   "execution_count": 13,
   "metadata": {},
   "outputs": [
    {
     "name": "stdout",
     "output_type": "stream",
     "text": [
      "Elapsed time for N=1000: 1.6303164958953857 seconds\n",
      "Elapsed time for N=2000: 2.969590187072754 seconds\n",
      "Elapsed time for N=3000: 7.68564772605896 seconds\n",
      "Elapsed time for N=4000: 13.765251874923706 seconds\n",
      "Elapsed time for N=5000: 20.11947226524353 seconds\n",
      "Elapsed time for N=6000: 28.4707088470459 seconds\n",
      "Elapsed time for N=7000: 36.78933835029602 seconds\n",
      "Elapsed time for N=8000: 44.57703995704651 seconds\n",
      "Elapsed time for N=9000: 53.451358795166016 seconds\n",
      "Elapsed time for N=10000: 63.086206674575806 seconds\n"
     ]
    }
   ],
   "source": [
    "set_num_threads(1)\n",
    "times1 = []\n",
    "for N in N_values:\n",
    "    start_time = time.time()\n",
    "    species, pos_save,IC,counters = DF_nbody(dt,N,prob,ri,zi,vri,vzi,Pneut,Pmono,Pdim,Ptrim,softening,k,interp)\n",
    "    end_time = time.time()\n",
    "    elapsed_time = end_time - start_time\n",
    "    times1.append(elapsed_time)\n",
    "    print(f\"Elapsed time for N={N}: {elapsed_time} seconds\")"
   ]
  },
  {
   "cell_type": "code",
   "execution_count": 5,
   "metadata": {},
   "outputs": [
    {
     "name": "stdout",
     "output_type": "stream",
     "text": [
      "Elapsed time for N=1000: 1.55690336227417 seconds\n",
      "Elapsed time for N=2000: 2.6593761444091797 seconds\n",
      "Elapsed time for N=3000: 7.007801294326782 seconds\n",
      "Elapsed time for N=4000: 12.64934754371643 seconds\n",
      "Elapsed time for N=5000: 18.64410710334778 seconds\n",
      "Elapsed time for N=6000: 26.50216293334961 seconds\n",
      "Elapsed time for N=7000: 34.606966733932495 seconds\n",
      "Elapsed time for N=8000: 41.77938652038574 seconds\n",
      "Elapsed time for N=9000: 50.36539435386658 seconds\n",
      "Elapsed time for N=10000: 59.39676332473755 seconds\n"
     ]
    }
   ],
   "source": [
    "set_num_threads(2)\n",
    "times2 = []\n",
    "for N in N_values:\n",
    "    start_time = time.time()\n",
    "    species, pos_save,IC,counters = DF_nbody(dt,N,prob,ri,zi,vri,vzi,Pneut,Pmono,Pdim,Ptrim,softening,k,interp)\n",
    "    end_time = time.time()\n",
    "    elapsed_time = end_time - start_time\n",
    "    times2.append(elapsed_time)\n",
    "    print(f\"Elapsed time for N={N}: {elapsed_time} seconds\")"
   ]
  },
  {
   "cell_type": "code",
   "execution_count": 4,
   "metadata": {},
   "outputs": [
    {
     "name": "stdout",
     "output_type": "stream",
     "text": [
      "Elapsed time for N=1000: 1.59769606590271 seconds\n",
      "Elapsed time for N=2000: 2.733510971069336 seconds\n",
      "Elapsed time for N=3000: 7.223837852478027 seconds\n",
      "Elapsed time for N=4000: 13.138489723205566 seconds\n",
      "Elapsed time for N=5000: 19.36033535003662 seconds\n",
      "Elapsed time for N=6000: 27.643356800079346 seconds\n",
      "Elapsed time for N=7000: 35.88935089111328 seconds\n",
      "Elapsed time for N=8000: 43.55225086212158 seconds\n",
      "Elapsed time for N=9000: 52.25453042984009 seconds\n",
      "Elapsed time for N=10000: 61.93298888206482 seconds\n"
     ]
    }
   ],
   "source": [
    "set_num_threads(4)\n",
    "times4 = []\n",
    "for N in N_values:\n",
    "    start_time = time.time()\n",
    "    species, pos_save,IC,counters = DF_nbody(dt,N,prob,ri,zi,vri,vzi,Pneut,Pmono,Pdim,Ptrim,softening,k,interp)\n",
    "    end_time = time.time()\n",
    "    elapsed_time = end_time - start_time\n",
    "    times4.append(elapsed_time)\n",
    "    print(f\"Elapsed time for N={N}: {elapsed_time} seconds\")"
   ]
  },
  {
   "cell_type": "code",
   "execution_count": 3,
   "metadata": {},
   "outputs": [
    {
     "name": "stdout",
     "output_type": "stream",
     "text": [
      "Elapsed time for N=1000: 1.5695717334747314 seconds\n",
      "Elapsed time for N=2000: 2.741208553314209 seconds\n",
      "Elapsed time for N=3000: 7.234661340713501 seconds\n",
      "Elapsed time for N=4000: 13.142115354537964 seconds\n",
      "Elapsed time for N=5000: 19.358454942703247 seconds\n",
      "Elapsed time for N=6000: 27.636249542236328 seconds\n",
      "Elapsed time for N=7000: 35.925108909606934 seconds\n",
      "Elapsed time for N=8000: 43.559900760650635 seconds\n",
      "Elapsed time for N=9000: 52.296040773391724 seconds\n",
      "Elapsed time for N=10000: 61.965885639190674 seconds\n"
     ]
    }
   ],
   "source": [
    "set_num_threads(8)\n",
    "times8 = []\n",
    "for N in N_values:\n",
    "    start_time = time.time()\n",
    "    species, pos_save,IC,counters = DF_nbody(dt,N,prob,ri,zi,vri,vzi,Pneut,Pmono,Pdim,Ptrim,softening,k,interp)\n",
    "    end_time = time.time()\n",
    "    elapsed_time = end_time - start_time\n",
    "    times8.append(elapsed_time)\n",
    "    print(f\"Elapsed time for N={N}: {elapsed_time} seconds\")"
   ]
  },
  {
   "cell_type": "code",
   "execution_count": 11,
   "metadata": {},
   "outputs": [],
   "source": [
    "# Save the lists into a single .npz file\n",
    "# np.savez('times_data.npz', times1=times1, times2=times2, times4=times4, times8=times8)\n",
    "# data = np.load('times_data.npz')\n",
    "# times1 = data['times1']\n",
    "# times2 = data['times2']\n",
    "# times4 = data['times4']\n",
    "# times8 = data['times8']"
   ]
  },
  {
   "cell_type": "code",
   "execution_count": 20,
   "metadata": {},
   "outputs": [
    {
     "data": {
      "text/plain": [
       "Text(0, 0.5, 'Time (s)')"
      ]
     },
     "execution_count": 20,
     "metadata": {},
     "output_type": "execute_result"
    },
    {
     "data": {
      "image/png": "[encoded data removed]",
      "text/plain": [
       "<Figure size 640x480 with 1 Axes>"
      ]
     },
     "metadata": {},
     "output_type": "display_data"
    }
   ],
   "source": [
    "plt.plot(N_values,times1,'*',label='CPU=1')\n",
    "plt.plot(N_values,times2,'d',label='CPU=2')\n",
    "plt.plot(N_values,times4,'o',label='CPU=4')\n",
    "plt.plot(N_values,times8,'s',label='CPU=8')\n",
    "plt.legend()\n",
    "plt.grid(True)\n",
    "plt.xlabel(\"N: number of particles\")\n",
    "plt.ylabel(\"Time (s)\")"
   ]
  },
  {
   "cell_type": "code",
   "execution_count": null,
   "metadata": {},
   "outputs": [],
   "source": []
  }
 ],
 "metadata": {
  "kernelspec": {
   "display_name": "Python 3",
   "language": "python",
   "name": "python3"
  },
  "language_info": {
   "codemirror_mode": {
    "name": "ipython",
    "version": 3
   },
   "file_extension": ".py",
   "mimetype": "text/x-python",
   "name": "python",
   "nbconvert_exporter": "python",
   "pygments_lexer": "ipython3",
   "version": "3.10.12"
  }
 },
 "nbformat": 4,
 "nbformat_minor": 2
}
